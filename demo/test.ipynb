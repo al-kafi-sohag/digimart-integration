{
 "cells": [
  {
   "cell_type": "markdown",
   "id": "f698440e-7a93-425d-8c68-c302a65049ce",
   "metadata": {},
   "source": [
    "# Subscription"
   ]
  },
  {
   "cell_type": "code",
   "execution_count": null,
   "id": "ff5ca9b7",
   "metadata": {},
   "outputs": [
    {
     "name": "stderr",
     "output_type": "stream",
     "text": [
      "C:\\Users\\hp\\AppData\\Local\\Temp\\ipykernel_6412\\3159975475.py:11: DeprecationWarning: datetime.datetime.utcfromtimestamp() is deprecated and scheduled for removal in a future version. Use timezone-aware objects to represent datetimes in UTC: datetime.datetime.fromtimestamp(timestamp, datetime.UTC).\n",
      "  current_time_utc = datetime.datetime.utcfromtimestamp(response.tx_time).isoformat(timespec='milliseconds') + 'Z'\n"
     ]
    },
    {
     "data": {
      "text/plain": [
       "'https://user.digimart.store/sdk/subscription/authorize?apiKey=bc4a1799650257f3d70262d17afb6d3e&requestId=000000000000009&requestTime=2024-11-25T09:37:13.049Z&signature=5036ab541f1fbaa714868d5efc8b5d72e03ee3544fdfcc3a8d4b9f7f3b5892ba9af59a7904328a4ade05571509c22372d5d5c0d035d60b0ae7996f549c7950fb&redirectUrl=https://dev.digimart.store/'"
      ]
     },
     "execution_count": 11,
     "metadata": {},
     "output_type": "execute_result"
    }
   ],
   "source": [
    "import datetime\n",
    "# Generating current UTC time in the required format\n",
    "# current_time_utc = datetime.datetime.utcnow().strftime('%Y-%m-%dT%H:%M:%S.%f')[:-3] + 'Z'\n",
    "\n",
    "\n",
    "# Instead of datetime\n",
    "import ntplib\n",
    "from time import ctime\n",
    "client = ntplib.NTPClient()\n",
    "response = client.request('pool.ntp.org')\n",
    "current_time_utc = datetime.datetime.utcfromtimestamp(response.tx_time).isoformat(timespec='milliseconds') + 'Z'\n",
    "\n",
    "import random\n",
    "import hashlib\n",
    "\n",
    "\n",
    "\n",
    "# Given values\n",
    "api_key = 'bc4a1799650257f3d70262d17afb6d3e'\n",
    "api_secret = 'b800886a-667d-4f58-91cf-06b3e399aff8'\n",
    "request_id = \"000000000000008\"\n",
    "\n",
    "\n",
    "# Generating a unique 15-digit request ID\n",
    "redirectUrl = \"https://dev.digimart.store/\" # Where you want to redirect users after subscription is complete\n",
    "# Creating the signature\n",
    "signature_data = f'{api_key}|{current_time_utc}|{api_secret}'\n",
    "hashed_signature = hashlib.sha512(signature_data.encode()).hexdigest() # SHA512\n",
    "\n",
    "\n",
    "msisdn = '01764987009'\n",
    "\n",
    "\n",
    "\n",
    "\n",
    "# Constructing the final API endpoint\n",
    "api_endpoint = f\"https://user.digimart.store/sdk/subscription/authorize?apiKey={api_key}&requestId={request_id}&requestTime={current_time_utc}&signature={hashed_signature}&redirectUrl={redirectUrl}&msisdn={msisdn}\"\n",
    "\n",
    "api_endpoint\n",
    "\n"
   ]
  },
  {
   "cell_type": "code",
   "execution_count": 23,
   "id": "581cee98-5f2e-49e1-96ff-5ce4e23b7a0f",
   "metadata": {},
   "outputs": [],
   "source": [
    "# !pip install ntplib"
   ]
  },
  {
   "cell_type": "code",
   "execution_count": 4,
   "id": "e7527c4d-a2df-4332-953a-c136946ddde4",
   "metadata": {},
   "outputs": [
    {
     "name": "stdout",
     "output_type": "stream",
     "text": [
      "2024-08-11T03:55:27.452Z\n",
      "-----------------------\n",
      "2024-08-11T03:55:27.439Z\n"
     ]
    }
   ],
   "source": [
    "\n",
    "## Time To Use\n",
    "\n",
    "import datetime\n",
    "current_time_utc1 = datetime.datetime.utcnow().strftime('%Y-%m-%dT%H:%M:%S.%f')[:-3] + 'Z'\n",
    "print(current_time_utc1)\n",
    "\n",
    "print(\"-----------------------\")\n",
    "\n",
    "## Time To Use\n",
    "import ntplib\n",
    "from time import ctime\n",
    "client = ntplib.NTPClient()\n",
    "response = client.request('pool.ntp.org')\n",
    "current_time_utc = datetime.datetime.utcfromtimestamp(response.tx_time).isoformat(timespec='milliseconds') + 'Z'\n",
    "print(current_time_utc)\n",
    "\n"
   ]
  },
  {
   "cell_type": "markdown",
   "id": "ed7277b4-687e-4e22-99bf-b494e4866f55",
   "metadata": {},
   "source": [
    "# Response From Subscription"
   ]
  },
  {
   "cell_type": "code",
   "execution_count": null,
   "id": "4126c7f1-dc7d-4c8f-9abe-6cdc835c0aaa",
   "metadata": {},
   "outputs": [
    {
     "data": {
      "text/plain": [
       "'https://user.digimart.store/sdk/subscription/success?subscriptionStatus=S1000&subscriberId=MjMwYTUyNzRhM2Y2OGUyZjRhZDEwZGY2NGNmYTI0ZjY0ZjZkOTRmZjI3NTliNzFhYjFjMDNiNWMyMzY1MmNmNjpncmFtZWVucGhvbmU=&requestId=888801748277168&url=https://www.facebook.com/'"
      ]
     },
     "execution_count": 3,
     "metadata": {},
     "output_type": "execute_result"
    }
   ],
   "source": [
    "\"https://user.digimart.store/sdk/subscription/success?subscriptionStatus=S1000&subscriberId=NmI3NjFjMzFkZTU3NzUxM2QxZTkzMzU1ZGNkOTM4ZThhOGM2MzFjYTRiMzg5ZjkxN2UyOTdjYzYzZGNlNjc2YjpncmFtZWVucGhvbmU=&requestId=000000000000001&url=https://dev.digimart.store/\""
   ]
  },
  {
   "cell_type": "code",
   "execution_count": null,
   "id": "04890e49-421a-467e-81e3-3029bb5e9431",
   "metadata": {},
   "outputs": [],
   "source": []
  },
  {
   "cell_type": "markdown",
   "id": "f8be1839-7bb4-463c-ae7a-ac135783692e",
   "metadata": {},
   "source": [
    "# Status Checking API"
   ]
  },
  {
   "cell_type": "code",
   "execution_count": 11,
   "id": "a9e395f8-b556-488a-92b0-84d54f88f65e",
   "metadata": {},
   "outputs": [
    {
     "name": "stderr",
     "output_type": "stream",
     "text": [
      "C:\\ProgramData\\anaconda3\\Lib\\site-packages\\urllib3\\connectionpool.py:1100: InsecureRequestWarning: Unverified HTTPS request is being made to host 'api.digimart.store'. Adding certificate verification is strongly advised. See: https://urllib3.readthedocs.io/en/latest/advanced-usage.html#tls-warnings\n",
      "  warnings.warn(\n"
     ]
    },
    {
     "name": "stdout",
     "output_type": "stream",
     "text": [
      "200\n",
      "{\"subscriberInfo\":[{\"subscriptionStatus\":\"REGISTERED\",\"subscriberId\":\"tel:MjMwYTUyNzRhM2Y2OGUyZjRhZDEwZGY2NGNmYTI0ZjY0ZjZkOTRmZjI3NTliNzFhYjFjMDNiNWMyMzY1MmNmNjpncmFtZWVucGhvbmU\\u003d\",\"statusDetail\":\"Request was successfully processed.\",\"lastChargedAmount\":\"2.00 BDT\",\"subscriberRequestId\":\"888801748277168\",\"lastChargedDate\":\"2024-08-11 09:30:31\",\"statusCode\":\"S1000\"}],\"requestId\":\"1081109310261100\",\"statusDetail\":\"Request was successfully processed.\",\"version\":\"2.0\",\"statusCode\":\"S1000\"}\n"
     ]
    }
   ],
   "source": [
    "import requests\n",
    "\n",
    "url = 'https://api.digimart.store/subscription/subscriberChargingInfo'\n",
    "\n",
    "headers = {\n",
    "    'Content-Type': 'application/json',\n",
    "    'X-Forwarded-For': '27.147.252.29',\n",
    "}\n",
    "\n",
    "data = {\n",
    "    \"applicationId\": \"APP_000443\",\n",
    "    \"password\": \"8c2b5cce91104b24b35d9b52b62b9110\",\n",
    "    \"subscriberId\": \"tel:MjMwYTUyNzRhM2Y2OGUyZjRhZDEwZGY2NGNmYTI0ZjY0ZjZkOTRmZjI3NTliNzFhYjFjMDNiNWMyMzY1MmNmNjpncmFtZWVucGhvbmU=\"\n",
    "}\n",
    "\n",
    "\n",
    "response = requests.post(url, headers=headers, json=data, verify=False)\n",
    "\n",
    "# Print the response\n",
    "print(response.status_code)\n",
    "print(response.text)\n"
   ]
  },
  {
   "cell_type": "code",
   "execution_count": 7,
   "id": "9dcf8cfc-8856-499c-a601-6f2cd45ab0f2",
   "metadata": {},
   "outputs": [
    {
     "name": "stdout",
     "output_type": "stream",
     "text": [
      "Note: you may need to restart the kernel to use updated packages.\n"
     ]
    },
    {
     "name": "stderr",
     "output_type": "stream",
     "text": [
      "ERROR: pip's dependency resolver does not currently take into account all the packages that are installed. This behaviour is the source of the following dependency conflicts.\n",
      "kubernetes 28.1.0 requires urllib3<2.0,>=1.24.2, but you have urllib3 2.0.7 which is incompatible.\n"
     ]
    }
   ],
   "source": [
    "# pip install --upgrade -q certifi\n"
   ]
  },
  {
   "cell_type": "markdown",
   "id": "fda364df-fb79-4245-9235-eddda716c320",
   "metadata": {},
   "source": [
    "# Subscription List API"
   ]
  },
  {
   "cell_type": "code",
   "execution_count": 3,
   "id": "47440b2b-4479-4402-8707-63728c180f10",
   "metadata": {},
   "outputs": [
    {
     "name": "stdout",
     "output_type": "stream",
     "text": [
      "200\n",
      "===========================\n",
      "{\n",
      "    \"version\": \"2.0\",\n",
      "    \"statusCode\": \"S1000\",\n",
      "    \"statusDetails\": \"Request Was Successfully Processed.\",\n",
      "    \"nextPageNumber\": -1,\n",
      "    \"moreDataAvailable\": false,\n",
      "    \"requestId\": \"bdd285370a4240229e399bf584c93df1\",\n",
      "    \"subscribers\": [\n",
      "        {\n",
      "            \"subscriberId\": \"Y2FlZTlhMzZlODcyMzk5M2U5M2I2YTgzOWQ3ODA1NmMyYmRkNmRmZTkwZGVmMTlmZjI1YjNlNDRhNWJmYzk1NjpncmFtZWVucGhvbmU=\",\n",
      "            \"subscriberRequestId\": \"640941133932439\",\n",
      "            \"subscriptionStatus\": \"REGISTERED\",\n",
      "            \"lastChargedDate\": \"2024-09-09 07:19:40\",\n",
      "            \"lastChargedAmount\": \"2.00 BDT\"\n",
      "        }\n",
      "    ]\n",
      "}\n"
     ]
    },
    {
     "name": "stderr",
     "output_type": "stream",
     "text": [
      "C:\\ProgramData\\anaconda3\\Lib\\site-packages\\urllib3\\connectionpool.py:1100: InsecureRequestWarning: Unverified HTTPS request is being made to host 'api.digimart.store'. Adding certificate verification is strongly advised. See: https://urllib3.readthedocs.io/en/latest/advanced-usage.html#tls-warnings\n",
      "  warnings.warn(\n"
     ]
    }
   ],
   "source": [
    "import requests\n",
    "import json\n",
    "\n",
    "url = \"https://api.digimart.store/subscription-info-server/getSubscribers\"\n",
    "\n",
    "data = {\n",
    "    \"applicationId\": \"APP_000475\",\n",
    "    \"password\": \"9c67b020e3791c870371fbbfde1bd529\",\n",
    "    \"version\": \"2.0\",\n",
    "    \"status\": \"REGISTERED\",\n",
    "    \"requestPage\": 1\n",
    "}\n",
    "\n",
    "res = requests.post(url, json=data, verify=False)\n",
    "\n",
    "# Print the raw response\n",
    "# print(res.text)\n",
    "print(res.status_code)\n",
    "print(\"===========================\")\n",
    "\n",
    "# Display response as pretty JSON\n",
    "try:\n",
    "    response_json = res.json()\n",
    "    pretty_response = json.dumps(response_json, indent=4)\n",
    "    print(pretty_response)\n",
    "except json.JSONDecodeError:\n",
    "    print(\"Response is not in JSON format\")\n"
   ]
  },
  {
   "cell_type": "markdown",
   "id": "4f4d6b33-c052-456c-9dab-f8dc3e819fe8",
   "metadata": {},
   "source": [
    "# UnSubscription API"
   ]
  },
  {
   "cell_type": "code",
   "execution_count": 4,
   "id": "ba5b939c-0cdb-437a-a6f4-65252816390d",
   "metadata": {},
   "outputs": [
    {
     "name": "stderr",
     "output_type": "stream",
     "text": [
      "C:\\ProgramData\\anaconda3\\Lib\\site-packages\\urllib3\\connectionpool.py:1100: InsecureRequestWarning: Unverified HTTPS request is being made to host 'api.digimart.store'. Adding certificate verification is strongly advised. See: https://urllib3.readthedocs.io/en/latest/advanced-usage.html#tls-warnings\n",
      "  warnings.warn(\n"
     ]
    },
    {
     "name": "stdout",
     "output_type": "stream",
     "text": [
      "200\n",
      "{\"requestId\":\"1093016300260046\",\"subscriptionStatus\":\"UNREGISTERED\",\"statusDetail\":\"Success\",\"recipient-address-masked\":\"NmI3NjFjMzFkZTU3NzUxM2QxZTkzMzU1ZGNkOTM4ZThhOGM2MzFjYTRiMzg5ZjkxN2UyOTdjYzYzZGNlNjc2YjpncmFtZWVucGhvbmU\\u003d\",\"version\":\"2.0\",\"statusCode\":\"S1000\"}\n"
     ]
    }
   ],
   "source": [
    "import requests\n",
    "\n",
    "url = 'https://api.digimart.store/subs/unregistration'\n",
    "\n",
    "data = {\n",
    "    \"applicationId\": \"APP_000471\",\n",
    "    \"password\": \"dcd017d16b9b8b0d8216d183049e454b\",\n",
    "    \"subscriberId\": \"tel:NmI3NjFjMzFkZTU3NzUxM2QxZTkzMzU1ZGNkOTM4ZThhOGM2MzFjYTRiMzg5ZjkxN2UyOTdjYzYzZGNlNjc2YjpncmFtZWVucGhvbmU=\",\n",
    "    \"action\":\"0\"\n",
    "}\n",
    "\n",
    "\n",
    "response = requests.post(url,json=data,verify=False)\n",
    "print(response.status_code)\n",
    "print(response.text)"
   ]
  },
  {
   "cell_type": "code",
   "execution_count": null,
   "id": "185b9661-ba64-4e77-a5d2-672d3f4b465f",
   "metadata": {},
   "outputs": [],
   "source": []
  },
  {
   "cell_type": "code",
   "execution_count": null,
   "id": "d70e7d68-eb6d-461f-b56f-0ffc49e54350",
   "metadata": {},
   "outputs": [],
   "source": []
  },
  {
   "cell_type": "code",
   "execution_count": null,
   "id": "3cf356e1-bd69-4b32-aa25-392026c077dc",
   "metadata": {},
   "outputs": [],
   "source": []
  }
 ],
 "metadata": {
  "kernelspec": {
   "display_name": "Python 3",
   "language": "python",
   "name": "python3"
  },
  "language_info": {
   "codemirror_mode": {
    "name": "ipython",
    "version": 3
   },
   "file_extension": ".py",
   "mimetype": "text/x-python",
   "name": "python",
   "nbconvert_exporter": "python",
   "pygments_lexer": "ipython3",
   "version": "3.13.0"
  }
 },
 "nbformat": 4,
 "nbformat_minor": 5
}
